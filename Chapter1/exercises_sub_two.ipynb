{
 "cells": [
  {
   "cell_type": "code",
   "execution_count": 1,
   "metadata": {},
   "outputs": [
    {
     "data": {
      "text/plain": [
       "'\\nGive an example of an application that requires algorithmic content at the application level and discuss the function of the algorithm\\ninvolved\\n'"
      ]
     },
     "execution_count": 1,
     "metadata": {},
     "output_type": "execute_result"
    }
   ],
   "source": [
    "#exercise 1.2-1\n",
    "\"\"\"\n",
    "Give an example of an application that requires algorithmic content at the application level and discuss the function of the algorithm\n",
    "involved\n",
    "\"\"\""
   ]
  },
  {
   "cell_type": "code",
   "execution_count": 2,
   "metadata": {},
   "outputs": [],
   "source": [
    "#Trip time on google maps. As input-> my location and the destination | Algorithm -> shortest-route type of algorithm to calculate \n",
    "# the shortest possible route | output  -> trip time "
   ]
  },
  {
   "cell_type": "code",
   "execution_count": 28,
   "metadata": {},
   "outputs": [
    {
     "data": {
      "text/plain": [
       "'\\nSuppose we are comparing implementations of insertion sort and merge sort on the same machine. For inputs of size n, insertions runs\\nin 8n**2 stpes , while merge sort runs in 64nlgn steps. For which values of n does insertion sort beat merge sort?\\n'"
      ]
     },
     "execution_count": 28,
     "metadata": {},
     "output_type": "execute_result"
    }
   ],
   "source": [
    "#exercise 1.2-2\n",
    "\"\"\"\n",
    "Suppose we are comparing implementations of insertion sort and merge sort on the same machine. For inputs of size n, insertions runs\n",
    "in 8n**2 stpes , while merge sort runs in 64nlgn steps. For which values of n does insertion sort beat merge sort?\n",
    "\"\"\""
   ]
  },
  {
   "cell_type": "code",
   "execution_count": 15,
   "metadata": {},
   "outputs": [
    {
     "name": "stdout",
     "output_type": "stream",
     "text": [
      "for n between 2 and 6 insertion sort beats merge sort\n"
     ]
    }
   ],
   "source": [
    "import math\n",
    "\n",
    "n = [n for n in range(1,100) if 8*(n**2) < 64*n*(math.log10(n))]\n",
    "print(f\"for n between {n[0]} and {n[-1]} insertion sort beats merge sort\")\n"
   ]
  },
  {
   "cell_type": "code",
   "execution_count": 17,
   "metadata": {},
   "outputs": [
    {
     "data": {
      "text/plain": [
       "'\\nWhat is the smallest value of n such that an algrothim whose running time is 100n**2 runs faster than an algorithm whose running time\\nis 2**n on the same machine?\\n'"
      ]
     },
     "execution_count": 17,
     "metadata": {},
     "output_type": "execute_result"
    }
   ],
   "source": [
    "#exercise 1.2-3\n",
    "\"\"\"\n",
    "What is the smallest value of n such that an algrothim whose running time is 100n**2 runs faster than an algorithm whose running time\n",
    "is 2**n on the same machine?\n",
    "\"\"\""
   ]
  },
  {
   "cell_type": "code",
   "execution_count": 20,
   "metadata": {},
   "outputs": [
    {
     "name": "stdout",
     "output_type": "stream",
     "text": [
      "23  is the smallest value for which the 1st algorithm is faster then the 2nd one\n"
     ]
    }
   ],
   "source": [
    "for  n in range(1, 100):\n",
    "    if (100*n)**2 < 2**n:\n",
    "        print(n, ' is the smallest value for which the 1st algorithm is faster then the 2nd one')\n",
    "        break"
   ]
  }
 ],
 "metadata": {
  "kernelspec": {
   "display_name": "Python 3",
   "language": "python",
   "name": "python3"
  },
  "language_info": {
   "codemirror_mode": {
    "name": "ipython",
    "version": 3
   },
   "file_extension": ".py",
   "mimetype": "text/x-python",
   "name": "python",
   "nbconvert_exporter": "python",
   "pygments_lexer": "ipython3",
   "version": "3.10.12 (main, Nov 20 2023, 15:14:05) [GCC 11.4.0]"
  },
  "orig_nbformat": 4,
  "vscode": {
   "interpreter": {
    "hash": "916dbcbb3f70747c44a77c7bcd40155683ae19c65e1c03b4aa3499c5328201f1"
   }
  }
 },
 "nbformat": 4,
 "nbformat_minor": 2
}
