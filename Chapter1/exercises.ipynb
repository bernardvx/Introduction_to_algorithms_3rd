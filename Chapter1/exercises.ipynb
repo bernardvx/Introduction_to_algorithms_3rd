{
 "cells": [
  {
   "cell_type": "code",
   "execution_count": 2,
   "metadata": {},
   "outputs": [
    {
     "data": {
      "text/plain": [
       "'\\nGive a real-world example that requires sorting or a real-world example that requires computing a convex hull\\n'"
      ]
     },
     "execution_count": 2,
     "metadata": {},
     "output_type": "execute_result"
    }
   ],
   "source": [
    "#exercise one\n",
    "\"\"\"\n",
    "Give a real-world example that requires sorting or a real-world example that requires computing a convex hull\n",
    "\"\"\""
   ]
  },
  {
   "cell_type": "code",
   "execution_count": 3,
   "metadata": {},
   "outputs": [],
   "source": [
    "#Sorting => Sorting a shops or pharmacys orders byt newest to oldest to have them be delivered in the order they were placed\n",
    "#Convex hull => Detecing a irregular shape in a picture of an object as in car recognition in self-driving technologies."
   ]
  },
  {
   "cell_type": "code",
   "execution_count": 4,
   "metadata": {},
   "outputs": [
    {
     "data": {
      "text/plain": [
       "'\\nOther then speed , what other measures of efficiency might one use in real-world setting?\\n'"
      ]
     },
     "execution_count": 4,
     "metadata": {},
     "output_type": "execute_result"
    }
   ],
   "source": [
    "#exercise two\n",
    "\"\"\"\n",
    "Other then speed , what other measures of efficiency might one use in real-world setting?\n",
    "\"\"\""
   ]
  },
  {
   "cell_type": "code",
   "execution_count": 5,
   "metadata": {},
   "outputs": [],
   "source": [
    "#Cost/Energy needed   for the desired output. "
   ]
  },
  {
   "cell_type": "code",
   "execution_count": 6,
   "metadata": {},
   "outputs": [
    {
     "data": {
      "text/plain": [
       "'\\nSelect a data structure that you have seen previously, and discuss its strengths and limitations\\n'"
      ]
     },
     "execution_count": 6,
     "metadata": {},
     "output_type": "execute_result"
    }
   ],
   "source": [
    "#exercise three\n",
    "\"\"\"\n",
    "Select a data structure that you have seen previously, and discuss its strengths and limitations\n",
    "\"\"\"\n"
   ]
  },
  {
   "cell_type": "code",
   "execution_count": 7,
   "metadata": {},
   "outputs": [],
   "source": [
    "#BST(Binary serach tree) => not much experience with it but i think it is very quick and correct in providing the results of a given search\n",
    "#as per their limitations it needs to be very carefully defiend for it to be a BST and not just a Binary Tree."
   ]
  },
  {
   "cell_type": "code",
   "execution_count": 8,
   "metadata": {},
   "outputs": [
    {
     "data": {
      "text/plain": [
       "'\\nHow are the shortest-path and traveling-salesman problems given above similiar? How are they different?\\n'"
      ]
     },
     "execution_count": 8,
     "metadata": {},
     "output_type": "execute_result"
    }
   ],
   "source": [
    "#exercise four\n",
    "\"\"\"\n",
    "How are the shortest-path and traveling-salesman problems given above similiar? How are they different?\n",
    "\"\"\""
   ]
  },
  {
   "cell_type": "code",
   "execution_count": 9,
   "metadata": {},
   "outputs": [],
   "source": [
    "#I think they are both similiar as in they aim to get the most efficient way through some distinct points in a plane\n",
    "#However the traveling-salesman has way more variables to take into account not only the distances between the points such as traffic, speed limitations etc"
   ]
  },
  {
   "cell_type": "code",
   "execution_count": 11,
   "metadata": {},
   "outputs": [
    {
     "data": {
      "text/plain": [
       "\"\\nCome up with a real-world problem in which only the best solution will do. Then come up with one in which a solution that is 'approximately' the best is good enough.\\n\""
      ]
     },
     "execution_count": 11,
     "metadata": {},
     "output_type": "execute_result"
    }
   ],
   "source": [
    "#exercise five\n",
    "\"\"\"\n",
    "Come up with a real-world problem in which only the best solution will do. Then come up with one in which a solution that is 'approximately' the best is good enough.\n",
    "\"\"\""
   ]
  },
  {
   "cell_type": "code",
   "execution_count": 12,
   "metadata": {},
   "outputs": [],
   "source": [
    "#Best solution reuqired => car engine running as it needs the best fuel efficienty(for the situation) , matching audio to video recording as it needs to be in sync\n",
    "#Approximate solution sufficient => Traveling salesman is a good example as they have to be NP-complete problems , most of which are real world predicting as \n",
    "#weather  prediction, financial market prediction etc "
   ]
  }
 ],
 "metadata": {
  "kernelspec": {
   "display_name": "Python 3",
   "language": "python",
   "name": "python3"
  },
  "language_info": {
   "codemirror_mode": {
    "name": "ipython",
    "version": 3
   },
   "file_extension": ".py",
   "mimetype": "text/x-python",
   "name": "python",
   "nbconvert_exporter": "python",
   "pygments_lexer": "ipython3",
   "version": "3.10.12"
  },
  "orig_nbformat": 4,
  "vscode": {
   "interpreter": {
    "hash": "916dbcbb3f70747c44a77c7bcd40155683ae19c65e1c03b4aa3499c5328201f1"
   }
  }
 },
 "nbformat": 4,
 "nbformat_minor": 2
}
