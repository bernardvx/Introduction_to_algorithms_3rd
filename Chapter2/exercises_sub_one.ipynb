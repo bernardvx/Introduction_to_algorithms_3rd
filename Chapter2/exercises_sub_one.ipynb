{
 "cells": [
  {
   "cell_type": "code",
   "execution_count": 24,
   "metadata": {},
   "outputs": [
    {
     "name": "stdout",
     "output_type": "stream",
     "text": [
      "[1, 2, 3, 4, 5, 6]\n"
     ]
    }
   ],
   "source": [
    "#Implemenation of Insertion Sort Algorithm in Python. \n",
    "\n",
    "a = [2, 5, 6, 1, 3, 4]\n",
    "\n",
    "def insertion_sort(a):\n",
    "    for i in range(1, len(a)):\n",
    "        j = i\n",
    "        while a[j-1] > a[j] and j > 0:\n",
    "            a[j-1], a[j] = a[j], a[j-1] #exchange the 2\n",
    "            j -= 1\n",
    "    print(a)\n",
    "\n",
    "insertion_sort(a)\n",
    "            \n"
   ]
  },
  {
   "cell_type": "code",
   "execution_count": null,
   "metadata": {},
   "outputs": [],
   "source": []
  }
 ],
 "metadata": {
  "kernelspec": {
   "display_name": "Python 3",
   "language": "python",
   "name": "python3"
  },
  "language_info": {
   "codemirror_mode": {
    "name": "ipython",
    "version": 3
   },
   "file_extension": ".py",
   "mimetype": "text/x-python",
   "name": "python",
   "nbconvert_exporter": "python",
   "pygments_lexer": "ipython3",
   "version": "3.10.12"
  },
  "orig_nbformat": 4,
  "vscode": {
   "interpreter": {
    "hash": "916dbcbb3f70747c44a77c7bcd40155683ae19c65e1c03b4aa3499c5328201f1"
   }
  }
 },
 "nbformat": 4,
 "nbformat_minor": 2
}
