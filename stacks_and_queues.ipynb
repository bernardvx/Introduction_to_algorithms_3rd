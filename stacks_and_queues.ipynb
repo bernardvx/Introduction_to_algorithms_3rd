{
 "cells": [
  {
   "cell_type": "code",
   "execution_count": 10,
   "metadata": {},
   "outputs": [
    {
     "name": "stdout",
     "output_type": "stream",
     "text": [
      "['Customer 1', 'Customer 2', 'Customer 3']\n",
      "served customer Customer 1\n",
      "served customer Customer 2\n",
      "served customer Customer 3\n",
      "[]\n"
     ]
    }
   ],
   "source": [
    "#Simple implementation of  a queue \n",
    "\n",
    "customer_queue = []\n",
    "\n",
    "Customers = ['Customer 1', 'Customer 2', 'Customer 3', 'Customer 4', 'Customer 5', 'Customer 6']\n",
    "\n",
    "Customers_inside = 3\n",
    "\n",
    "def serve_customer(customer_queue):\n",
    "    if Customers:\n",
    "        served_customer = customer_queue.pop(0)\n",
    "        print(f'served customer {served_customer}')\n",
    "    else:\n",
    "        print('No customers to serve')\n",
    "\n",
    "\n",
    "def let_customer_in(Customer, customer_queue):\n",
    "    customer_queue.append(Customer)\n",
    "\n",
    "\n",
    "while len(customer_queue) < Customers_inside:\n",
    "    for customer in Customers[:Customers_inside]:\n",
    "        let_customer_in(customer, customer_queue)\n",
    "\n",
    "\n",
    "print(customer_queue)\n",
    "\n",
    "while customer_queue:\n",
    "    serve_customer(customer_queue)\n",
    "\n",
    "print(customer_queue)\n"
   ]
  },
  {
   "cell_type": "code",
   "execution_count": null,
   "metadata": {},
   "outputs": [],
   "source": []
  },
  {
   "cell_type": "code",
   "execution_count": 17,
   "metadata": {},
   "outputs": [
    {
     "name": "stdout",
     "output_type": "stream",
     "text": [
      "Visited youtube.com\n",
      "Visited X.com\n",
      "Visited github.com\n",
      "Visited tesla.com\n",
      "Visited tinycorp.com\n",
      "\n",
      "You are currently browsing tinycorp.com. Your browser history ['youtube.com', 'X.com', 'github.com', 'tesla.com']\n",
      "Back to tesla.com\n",
      "Back to github.com\n",
      "\n",
      "You are currently browsing github.com. Your browser history ['youtube.com', 'X.com'] \n",
      "      and you can go forward to these pages ['tinycorp.com', 'tesla.com']\n",
      "Went forward to tesla.com\n",
      "\n",
      "You are currently browsing tesla.com. Your browser history ['youtube.com', 'X.com', 'github.com'] \n",
      "      and you can go forward to these pages ['tinycorp.com']\n"
     ]
    }
   ],
   "source": [
    "#Simple implementation of a stack\n",
    "\n",
    "# chatgpt given exercise: Browser History Navigation (Stack)\n",
    "# Description: Implement a browser navigation system using stacks to simulate the forward and backward button functionality.\n",
    "\n",
    "class Browser():\n",
    "    def __init__(self):\n",
    "        self.back_stack = []\n",
    "        self.forward_stack = []\n",
    "        self.current_page = None\n",
    "    \n",
    "    def visit(self, url):\n",
    "        if self.current_page:\n",
    "            self.back_stack.append(self.current_page)\n",
    "        self.current_page = url\n",
    "        self.forward_stack.clear()\n",
    "        print(f'Visited {self.current_page}')\n",
    "    \n",
    "    def back(self):\n",
    "        if self.back_stack:\n",
    "            self.forward_stack.append(self.current_page)\n",
    "            self.current_page = self.back_stack.pop()\n",
    "            print(f'Back to {self.current_page}')\n",
    "        else:\n",
    "            print('Operation not possible, no page to go back to')\n",
    "\n",
    "    \n",
    "    def forward(self):\n",
    "        if self.forward_stack:\n",
    "            self.back_stack.append(self.current_page)\n",
    "            self.current_page = self.forward_stack.pop()\n",
    "            print(f'Went forward to {self.current_page}')\n",
    "        else:\n",
    "            \n",
    "            print(f'You are currently at the most forward page')\n",
    "\n",
    "    \n",
    "\n",
    "\n",
    "brave = Browser()\n",
    "brave.visit('youtube.com')\n",
    "brave.visit('X.com')\n",
    "brave.visit('github.com')\n",
    "brave.visit('tesla.com')\n",
    "brave.visit('tinycorp.com')\n",
    "\n",
    "print(f'\\nYou are currently browsing {brave.current_page}. Your browser history {brave.back_stack}')\n",
    "\n",
    "brave.back()\n",
    "brave.back()\n",
    "\n",
    "print(f'''\\nYou are currently browsing {brave.current_page}. Your browser history {brave.back_stack} \n",
    "      and you can go forward to these pages {brave.forward_stack}''')\n",
    "\n",
    "brave.forward()\n",
    "\n",
    "print(f'''\\nYou are currently browsing {brave.current_page}. Your browser history {brave.back_stack} \n",
    "      and you can go forward to these pages {brave.forward_stack}''')\n",
    "\n",
    "\n",
    "\n",
    "\n",
    "\n"
   ]
  },
  {
   "cell_type": "code",
   "execution_count": null,
   "metadata": {},
   "outputs": [],
   "source": []
  }
 ],
 "metadata": {
  "kernelspec": {
   "display_name": "Python 3",
   "language": "python",
   "name": "python3"
  },
  "language_info": {
   "codemirror_mode": {
    "name": "ipython",
    "version": 3
   },
   "file_extension": ".py",
   "mimetype": "text/x-python",
   "name": "python",
   "nbconvert_exporter": "python",
   "pygments_lexer": "ipython3",
   "version": "3.10.12 (main, Nov 20 2023, 15:14:05) [GCC 11.4.0]"
  },
  "orig_nbformat": 4,
  "vscode": {
   "interpreter": {
    "hash": "916dbcbb3f70747c44a77c7bcd40155683ae19c65e1c03b4aa3499c5328201f1"
   }
  }
 },
 "nbformat": 4,
 "nbformat_minor": 2
}
